{
 "cells": [
  {
   "cell_type": "code",
   "execution_count": 1,
   "metadata": {},
   "outputs": [
    {
     "name": "stdout",
     "output_type": "stream",
     "text": [
      "List Trainer: [####################] 100%\n"
     ]
    }
   ],
   "source": [
    "from chatterbot import ChatBot\n",
    "from chatterbot.trainers import ListTrainer\n",
    "bot = ChatBot(\n",
    "    'Techo',\n",
    "    storage_adapter='chatterbot.storage.SQLStorageAdapter',\n",
    "    input_adapter='chatterbot.input.TerminalAdapter',\n",
    "    output_adapter='chatterbot.output.TerminalAdapter',\n",
    "    logic_adapters=[\n",
    "        \n",
    "        \"chatterbot.logic.BestMatch\"\n",
    "    ],\n",
    "    database='./database.sqlite3'\n",
    ")\n",
    "\n",
    "#conversations = [\n",
    "#    'Are you an athlete?', 'No, are you mad? I am a bot',\n",
    "#    'Do you like big bang theory?', 'Bazinga!',\n",
    "#    'What is my name?', 'Ruan',\n",
    "#    'What color is the sky?', 'Blue, stop asking me stupid questions'\n",
    "#]\n",
    "\n",
    "bot.set_trainer(ListTrainer)\n",
    "data = open('C:\\ml projects\\Conversations.txt').read()\n",
    "talk = data.strip().split('\\n')\n",
    "bot.train(talk)"
   ]
  },
  {
   "cell_type": "code",
   "execution_count": null,
   "metadata": {},
   "outputs": [
    {
     "name": "stdout",
     "output_type": "stream",
     "text": [
      "hii\n",
      "okay\n",
      "what\n",
      "i love you\n",
      "lov to\n",
      "tomorrow\n",
      "ok\n",
      "nye\n",
      "i am nagraj\n",
      "where is rajesh?\n",
      "i don't know.\n",
      "you are a waste fellow\n",
      "no i am not\n",
      "superman is great\n",
      "yeah i know that\n",
      "oaky\n",
      "oops thats oops actually XD\n",
      "are joking I don’t need any\n",
      "wtf\n",
      "ok\n",
      "you are stupid\n",
      "big boss is very interesting!\n",
      "what the hell\n",
      "nagasai what are you doing right now?\n",
      "idk\n",
      "big boss is very interesting!\n",
      "?\n",
      "love\n",
      "kolala\n",
      "so good of you\n",
      "yeah but she is so frightening\n",
      "shall we go for a date\n",
      "wtf we?\n",
      "what the hell\n",
      "watcha talking?\n",
      "Ha ha ha are you mad Delhi itself is a capital Mr. Intelligent\n",
      "++\n",
      "You want to test me ? Ok let’s try\n"
     ]
    }
   ],
   "source": [
    "while True:\n",
    "    try:\n",
    "     bot_input = bot.get_response(None)\n",
    "\n",
    "    except(KeyboardInterrupt, EOFError, SystemExit):\n",
    "        break"
   ]
  },
  {
   "cell_type": "code",
   "execution_count": null,
   "metadata": {},
   "outputs": [],
   "source": []
  }
 ],
 "metadata": {
  "kernelspec": {
   "display_name": "Python 3",
   "language": "python",
   "name": "python3"
  },
  "language_info": {
   "codemirror_mode": {
    "name": "ipython",
    "version": 3
   },
   "file_extension": ".py",
   "mimetype": "text/x-python",
   "name": "python",
   "nbconvert_exporter": "python",
   "pygments_lexer": "ipython3",
   "version": "3.6.5"
  }
 },
 "nbformat": 4,
 "nbformat_minor": 2
}
